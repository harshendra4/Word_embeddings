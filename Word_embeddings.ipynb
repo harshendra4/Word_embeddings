{
  "nbformat": 4,
  "nbformat_minor": 0,
  "metadata": {
    "colab": {
      "provenance": []
    },
    "kernelspec": {
      "name": "python3",
      "display_name": "Python 3"
    },
    "language_info": {
      "name": "python"
    }
  },
  "cells": [
    {
      "cell_type": "code",
      "execution_count": null,
      "metadata": {
        "id": "OPYiDpJEj41h"
      },
      "outputs": [],
      "source": [
        "import numpy as np\n",
        "from tensorflow.keras.preprocessing.text import one_hot\n",
        "from tensorflow.keras.preprocessing.sequence import pad_sequences\n",
        "from tensorflow.keras.models import Sequential\n",
        "from tensorflow.keras.layers import Dense\n",
        "from tensorflow.keras.layers import Flatten\n",
        "from tensorflow.keras.layers import Embedding"
      ]
    },
    {
      "cell_type": "code",
      "source": [
        "reviews = ['nice food',\n",
        "        'amazing restaurant',\n",
        "        'too good',\n",
        "        'just loved it!',\n",
        "        'will go again',\n",
        "        'horrible food',\n",
        "        'never go there',\n",
        "        'poor service',\n",
        "        'poor quality',\n",
        "        'needs improvement']\n",
        "sentiment = np.array([1,1,1,1,1,0,0,0,0,0])"
      ],
      "metadata": {
        "id": "BqNf9Ex9j7_m"
      },
      "execution_count": null,
      "outputs": []
    },
    {
      "cell_type": "code",
      "source": [
        "one_hot('just loved it!',30) #the sentence \"just loved it!\" will be assigned a number on its defined vocab size"
      ],
      "metadata": {
        "colab": {
          "base_uri": "https://localhost:8080/"
        },
        "id": "u_Kg2sK2kHW2",
        "outputId": "0dd3d165-ff0e-4849-805a-c96eb88cc4f1"
      },
      "execution_count": null,
      "outputs": [
        {
          "output_type": "execute_result",
          "data": {
            "text/plain": [
              "[24, 19, 18]"
            ]
          },
          "metadata": {},
          "execution_count": 4
        }
      ]
    },
    {
      "cell_type": "code",
      "source": [
        "vocab_size = 30\n",
        "encoded_reviews = [one_hot(d, vocab_size) for d in reviews]\n",
        "print(encoded_reviews)"
      ],
      "metadata": {
        "colab": {
          "base_uri": "https://localhost:8080/"
        },
        "id": "cPoNB4WEkOXZ",
        "outputId": "2d48ceca-b84e-44b8-c499-6b5855dbdc14"
      },
      "execution_count": null,
      "outputs": [
        {
          "output_type": "stream",
          "name": "stdout",
          "text": [
            "[[18, 28], [5, 6], [2, 4], [24, 19, 18], [19, 21, 25], [11, 28], [14, 21, 24], [19, 14], [19, 10], [20, 13]]\n"
          ]
        }
      ]
    },
    {
      "cell_type": "code",
      "source": [
        "max_length = 3\n",
        "padded_reviews = pad_sequences(encoded_reviews, maxlen=max_length, padding='post')\n",
        "print(padded_reviews) #padding considering the maximum sentence size(want each encoded vector have equal no. of elements)"
      ],
      "metadata": {
        "colab": {
          "base_uri": "https://localhost:8080/"
        },
        "id": "nZttOWlZlQHj",
        "outputId": "dabf630a-762b-4d0b-f339-67487ccb5055"
      },
      "execution_count": null,
      "outputs": [
        {
          "output_type": "stream",
          "name": "stdout",
          "text": [
            "[[18 28  0]\n",
            " [ 5  6  0]\n",
            " [ 2  4  0]\n",
            " [24 19 18]\n",
            " [19 21 25]\n",
            " [11 28  0]\n",
            " [14 21 24]\n",
            " [19 14  0]\n",
            " [19 10  0]\n",
            " [20 13  0]]\n"
          ]
        }
      ]
    },
    {
      "cell_type": "code",
      "source": [
        "embedded_vector_size = 5\n",
        "model= Sequential()\n",
        "model.add(Embedding(vocab_size, embedded_vector_size, input_length=max_length,name=\"embedding\")) #first layer that is embedding layer \n",
        "model.add(Flatten())# second layer that is concating the vectors \n",
        "model.add(Dense(1, activation='sigmoid'))# one neuron layer"
      ],
      "metadata": {
        "id": "oyJvyXt4lTs0"
      },
      "execution_count": null,
      "outputs": []
    },
    {
      "cell_type": "code",
      "source": [
        "X= padded_reviews\n",
        "y= sentiment"
      ],
      "metadata": {
        "id": "CMrU2ueZoFfC"
      },
      "execution_count": null,
      "outputs": []
    },
    {
      "cell_type": "code",
      "source": [
        "model.compile(optimizer='adam', loss='binary_crossentropy', metrics=['accuracy'])\n",
        "print(model.summary())"
      ],
      "metadata": {
        "colab": {
          "base_uri": "https://localhost:8080/"
        },
        "id": "tvSG3TlAoPVN",
        "outputId": "8efb7fe1-36ff-41f7-ba25-f2fc8a4ea691"
      },
      "execution_count": null,
      "outputs": [
        {
          "output_type": "stream",
          "name": "stdout",
          "text": [
            "Model: \"sequential\"\n",
            "_________________________________________________________________\n",
            " Layer (type)                Output Shape              Param #   \n",
            "=================================================================\n",
            " embedding (Embedding)       (None, 3, 5)              150       \n",
            "                                                                 \n",
            " flatten (Flatten)           (None, 15)                0         \n",
            "                                                                 \n",
            " dense (Dense)               (None, 1)                 16        \n",
            "                                                                 \n",
            "=================================================================\n",
            "Total params: 166\n",
            "Trainable params: 166\n",
            "Non-trainable params: 0\n",
            "_________________________________________________________________\n",
            "None\n"
          ]
        }
      ]
    },
    {
      "cell_type": "code",
      "source": [
        "model.fit(X,y, epochs=50, verbose=0)"
      ],
      "metadata": {
        "colab": {
          "base_uri": "https://localhost:8080/"
        },
        "id": "uDFg1RCSoTYM",
        "outputId": "e9a7042c-9195-4bb8-c28a-7d7e46d7462b"
      },
      "execution_count": null,
      "outputs": [
        {
          "output_type": "execute_result",
          "data": {
            "text/plain": [
              "<keras.callbacks.History at 0x7fafed487b80>"
            ]
          },
          "metadata": {},
          "execution_count": 11
        }
      ]
    },
    {
      "cell_type": "code",
      "source": [
        "loss, accuracy = model.evaluate(X,y)"
      ],
      "metadata": {
        "colab": {
          "base_uri": "https://localhost:8080/"
        },
        "id": "YkACYJw-ooJX",
        "outputId": "840b4140-1408-45e6-8f7d-fe0edebf3e09"
      },
      "execution_count": null,
      "outputs": [
        {
          "output_type": "stream",
          "name": "stdout",
          "text": [
            "1/1 [==============================] - 0s 179ms/step - loss: 0.6098 - accuracy: 1.0000\n"
          ]
        }
      ]
    },
    {
      "cell_type": "code",
      "source": [
        "weights = model.get_layer('embedding').get_weights()[0]\n",
        "weights"
      ],
      "metadata": {
        "colab": {
          "base_uri": "https://localhost:8080/"
        },
        "id": "33u5K6OrosV7",
        "outputId": "d90968d4-1f38-4b6e-e6dc-bf1566113d4c"
      },
      "execution_count": null,
      "outputs": [
        {
          "output_type": "execute_result",
          "data": {
            "text/plain": [
              "array([[ 0.01797991, -0.08072254,  0.07653565,  0.05748725, -0.01391844],\n",
              "       [-0.01079993,  0.00315057,  0.04125741, -0.00838663,  0.04934723],\n",
              "       [-0.04784485,  0.07531904, -0.00625606, -0.0903423 ,  0.05738634],\n",
              "       [ 0.03243729,  0.04616772,  0.02266562,  0.01706708,  0.02953032],\n",
              "       [-0.05675121, -0.02778028,  0.09981415, -0.0890925 ,  0.05862622],\n",
              "       [-0.09073552,  0.09277928, -0.0138536 , -0.06399844,  0.09717562],\n",
              "       [-0.08635537, -0.08830216,  0.0478397 , -0.07085932,  0.07512259],\n",
              "       [ 0.01450684,  0.0182076 , -0.03604413,  0.01214238, -0.01362543],\n",
              "       [-0.03036962,  0.03714572,  0.00472493, -0.02627853, -0.01749219],\n",
              "       [-0.02287999,  0.01686385, -0.0176913 ,  0.02052268,  0.04808876],\n",
              "       [ 0.07828232,  0.10039411, -0.02335182,  0.06515408, -0.05791279],\n",
              "       [ 0.09226397, -0.07197367,  0.0220069 ,  0.00842187, -0.07806485],\n",
              "       [-0.03691484,  0.03785744, -0.04587975,  0.0464207 , -0.00692219],\n",
              "       [ 0.06180521,  0.05126006, -0.05644013,  0.00249362, -0.06218296],\n",
              "       [ 0.07840399,  0.02352748,  0.05366579,  0.09125448, -0.06635014],\n",
              "       [ 0.00698208, -0.04060229,  0.03607974,  0.01273373,  0.04961527],\n",
              "       [-0.03610101, -0.01004839, -0.03734406, -0.03814874, -0.01533995],\n",
              "       [-0.00754435,  0.04963801, -0.03773594, -0.01019666,  0.01865375],\n",
              "       [-0.05589674,  0.03675685, -0.05820578, -0.0996177 ,  0.07536259],\n",
              "       [-0.02255055, -0.09951917,  0.09267975, -0.06117982, -0.08759063],\n",
              "       [ 0.0217912 , -0.0332452 ,  0.06001415,  0.00290409, -0.03241343],\n",
              "       [-0.067279  , -0.02453283,  0.05831243, -0.04316638,  0.05910071],\n",
              "       [ 0.01821547, -0.04392573,  0.04743013, -0.01602459, -0.01353767],\n",
              "       [-0.04567969, -0.03583921, -0.01036776,  0.0475345 , -0.00862634],\n",
              "       [ 0.07793494,  0.02139955, -0.09759093,  0.05125215, -0.03575818],\n",
              "       [-0.04193611,  0.02609874, -0.0805172 , -0.00866713,  0.01362668],\n",
              "       [-0.03220697,  0.01795664, -0.00954635,  0.0077132 , -0.00125261],\n",
              "       [-0.04969609, -0.01583314,  0.01459006, -0.02147795, -0.0266616 ],\n",
              "       [-0.01106476, -0.03456601,  0.00953884, -0.01473311, -0.00940473],\n",
              "       [ 0.02918312, -0.04594928,  0.00852919, -0.02788153, -0.00180972]],\n",
              "      dtype=float32)"
            ]
          },
          "metadata": {},
          "execution_count": 14
        }
      ]
    },
    {
      "cell_type": "code",
      "source": [],
      "metadata": {
        "id": "ncxx2RChqZLt"
      },
      "execution_count": null,
      "outputs": []
    }
  ]
}